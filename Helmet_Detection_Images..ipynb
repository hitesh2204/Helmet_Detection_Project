{
 "cells": [
  {
   "cell_type": "markdown",
   "metadata": {},
   "source": [
    "### Importing Important Libraries."
   ]
  },
  {
   "cell_type": "code",
   "execution_count": 6,
   "metadata": {},
   "outputs": [],
   "source": [
    "import cv2\n",
    "import os\n",
    "from tensorflow.keras.models import load_model\n",
    "from tensorflow.keras.preprocessing.image import load_img, img_to_array\n",
    "import numpy as np"
   ]
  },
  {
   "cell_type": "code",
   "execution_count": 7,
   "metadata": {},
   "outputs": [],
   "source": [
    "#load model # Accuracy=97.4 , validation Accuracy = 99.1 # very light model, size =5MB\n",
    "model = load_model('D://Hitesh Data Scientist//Computer Vision//OpenCV//Helmet Detection//helmet_detection_model.h5') # cnn"
   ]
  },
  {
   "cell_type": "code",
   "execution_count": 8,
   "metadata": {},
   "outputs": [],
   "source": [
    "# model accept below hight and width of the image\n",
    "img_width, img_hight = 200, 200"
   ]
  },
  {
   "cell_type": "code",
   "execution_count": 31,
   "metadata": {},
   "outputs": [
    {
     "name": "stdout",
     "output_type": "stream",
     "text": [
      "Person not wearing helmet - prob =  0.9999323\n",
      "Person not wearing helmet - prob =  0.9999418\n",
      "Person not wearing helmet - prob =  1.0\n",
      "Person not wearing helmet - prob =  0.99829596\n",
      "Person not wearing helmet - prob =  0.99999166\n",
      "Person not wearing helmet - prob =  0.99985254\n",
      "Person not wearing helmet - prob =  0.9889171\n",
      "Person not wearing helmet - prob =  0.9982096\n",
      "Person not wearing helmet - prob =  0.9997987\n",
      "Person not wearing helmet - prob =  0.9999938\n",
      "Person not wearing helmet - prob =  0.99906605\n",
      "Person not wearing helmet - prob =  0.9953797\n",
      "Person not wearing helmet - prob =  0.99923265\n",
      "Person not wearing helmet - prob =  0.9989052\n",
      "Person not wearing helmet - prob =  0.9877599\n",
      "Person not wearing helmet - prob =  0.9968784\n"
     ]
    }
   ],
   "source": [
    "# Load the Cascade face Classifier\n",
    "face_cascade = cv2.CascadeClassifier(\"D://Hitesh Data Scientist//Computer Vision//OpenCV//Helmet Detection//haarcascade_frontalface_default.xml\")\n",
    " \n",
    "#parameters for text\n",
    "# font \n",
    "font = cv2.FONT_HERSHEY_SIMPLEX \n",
    "# org \n",
    "org = (1, 1)\n",
    "class_lable=' '      \n",
    "# fontScale \n",
    "fontScale = 1 #0.5\n",
    "# Blue color in BGR \n",
    "color = (255, 0, 0) \n",
    "# Line thickness of 2 px \n",
    "thickness = 2 #1\n",
    "\n",
    "#read image from webcam\n",
    "color_img = cv2.imread('D://Hitesh Data Scientist//Computer Vision//OpenCV//Helmet Detection//Test_Images//child.jpeg')\n",
    "\n",
    "# Convert to grayscale\n",
    "gray_img = cv2.cvtColor(color_img, cv2.COLOR_BGR2GRAY)\n",
    "\n",
    "# Detect the faces\n",
    "faces = face_cascade.detectMultiScale(gray_img, 1.1, 2) \n",
    "\n",
    "#take face then predict class mask or not mask then draw recrangle and text then display image\n",
    "img_count = 0\n",
    "for (x, y, w, h) in faces:\n",
    "    org = (x-10,y-10)\n",
    "    img_count +=1 \n",
    "    color_face = color_img[y:y+h,x:x+w] # color face\n",
    "    cv2.imwrite('D://Hitesh Data Scientist//Computer Vision//OpenCV//Helmet Detection//Faces//input//%dface.jpg'%(img_count),color_face)\n",
    "    img = load_img('D://Hitesh Data Scientist//Computer Vision//OpenCV//Helmet Detection//Faces//input//%dface.jpg'%(img_count), target_size=(img_width,img_hight))\n",
    "         \n",
    "    img = img_to_array(img)/255\n",
    "    img = np.expand_dims(img,axis=0)\n",
    "    pred_prob = model.predict(img)\n",
    "    #print(pred_prob[0][0].round(2))\n",
    "    pred=np.argmax(pred_prob)\n",
    "     \n",
    "    if pred==0:\n",
    "        print(\"Person with helmet - predic = \",pred_prob[0][0])\n",
    "        class_lable = \"Wearing Helmet\"\n",
    "        color = (0, 255, 0)\n",
    "        cv2.imwrite('D://Hitesh Data Scientist//Computer Vision//OpenCV//Helmet Detection//Faces//with_helmet//%dface.jpg'%(img_count),color_face)\n",
    "        cv2.rectangle(color_img, (x, y), (x+w, y+h), (0, 0, 255), 3)\n",
    "        # Using cv2.putText() method \n",
    "        cv2.putText(color_img, class_lable, org, font,  \n",
    "                                   fontScale, color, thickness, cv2.LINE_AA) \n",
    "        cv2.imwrite('D://Hitesh Data Scientist//Computer Vision//OpenCV//Helmet Detection//Faces//with_helmet/%dmask.jpg'%(img_count),color_img)\n",
    "        \n",
    "    else:\n",
    "        print('Person not wearing helmet - prob = ',pred_prob[0][1])\n",
    "        class_lable = \"Not Wearing Helmet\"\n",
    "        color = (255, 0, 0)\n",
    "        cv2.imwrite('D://Hitesh Data Scientist//Computer Vision//OpenCV//Helmet Detection//Faces//without_helmet//%dface.jpg'%(img_count),color_face)\n",
    "        cv2.rectangle(color_img, (x, y), (x+w, y+h), (0, 0, 255), 3)\n",
    "        # Using cv2.putText() method \n",
    "        cv2.putText(color_img, class_lable, org, font,  \n",
    "                                   fontScale, color, thickness, cv2.LINE_AA)         \n",
    "        cv2.imwrite('D://Hitesh Data Scientist//Computer Vision//OpenCV//Helmet Detection//Faces//without_helmet/%dno_mask.jpg'%(img_count),color_img)\n",
    "        \n",
    "# display image\n",
    "cv2.imshow('LIVE Helmet detection', color_img)\n",
    "     \n",
    "cv2.waitKey() \n",
    " \n",
    "#close all windows\n",
    "cv2.destroyAllWindows()\n",
    "                 "
   ]
  },
  {
   "cell_type": "code",
   "execution_count": null,
   "metadata": {},
   "outputs": [],
   "source": []
  }
 ],
 "metadata": {
  "kernelspec": {
   "display_name": "Python 3",
   "language": "python",
   "name": "python3"
  },
  "language_info": {
   "codemirror_mode": {
    "name": "ipython",
    "version": 3
   },
   "file_extension": ".py",
   "mimetype": "text/x-python",
   "name": "python",
   "nbconvert_exporter": "python",
   "pygments_lexer": "ipython3",
   "version": "3.7.4"
  }
 },
 "nbformat": 4,
 "nbformat_minor": 2
}
